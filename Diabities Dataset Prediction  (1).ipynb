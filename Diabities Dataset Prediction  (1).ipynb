{
 "cells": [
  {
   "cell_type": "code",
   "execution_count": 67,
   "metadata": {},
   "outputs": [],
   "source": [
    "import pandas as pd\n",
    "import numpy as np\n",
    "from sklearn.linear_model import LinearRegression\n",
    "\n"
   ]
  },
  {
   "cell_type": "code",
   "execution_count": 68,
   "metadata": {},
   "outputs": [],
   "source": [
    "data = np.genfromtxt(r'C:\\Users\\DELL\\Downloads\\train.csv.csv', delimiter = ',')"
   ]
  },
  {
   "cell_type": "code",
   "execution_count": 78,
   "metadata": {},
   "outputs": [],
   "source": [
    "X_train = data[:,0:10]\n",
    "Y_train = data[:,-1]"
   ]
  },
  {
   "cell_type": "code",
   "execution_count": 79,
   "metadata": {},
   "outputs": [],
   "source": [
    "alg1 = LinearRegression()\n"
   ]
  },
  {
   "cell_type": "code",
   "execution_count": 80,
   "metadata": {},
   "outputs": [
    {
     "data": {
      "text/plain": [
       "LinearRegression()"
      ]
     },
     "execution_count": 80,
     "metadata": {},
     "output_type": "execute_result"
    }
   ],
   "source": [
    "alg1.fit(X_train , Y_train)"
   ]
  },
  {
   "cell_type": "code",
   "execution_count": 81,
   "metadata": {},
   "outputs": [
    {
     "data": {
      "text/plain": [
       "0.49572080513472594"
      ]
     },
     "execution_count": 81,
     "metadata": {},
     "output_type": "execute_result"
    }
   ],
   "source": [
    "alg1.score(X_train,Y_train)"
   ]
  },
  {
   "cell_type": "code",
   "execution_count": 82,
   "metadata": {},
   "outputs": [
    {
     "data": {
      "text/plain": [
       "array([  21.73408174, -256.66866414,  569.60940131,  303.63233334,\n",
       "       -833.11087669,  525.74312904,  136.07128744,  140.89458811,\n",
       "        731.44498135,   53.3211924 ])"
      ]
     },
     "execution_count": 82,
     "metadata": {},
     "output_type": "execute_result"
    }
   ],
   "source": [
    "alg1.coef_"
   ]
  },
  {
   "cell_type": "code",
   "execution_count": 83,
   "metadata": {},
   "outputs": [],
   "source": [
    "X_test = np.genfromtxt(r'C:\\Users\\DELL\\Downloads\\test.cv.csv',delimiter = ',')"
   ]
  },
  {
   "cell_type": "code",
   "execution_count": 85,
   "metadata": {},
   "outputs": [
    {
     "data": {
      "text/plain": [
       "array([105.52974822, 105.80391961, 178.60857229,  79.38287828,\n",
       "        52.95868697,  98.87263841, 150.71755447,  34.86515223,\n",
       "       113.13535719, 161.50184017, 135.86156128,  94.71592235,\n",
       "       138.48094402, 141.37441711, 158.76862666, 171.65288597,\n",
       "       106.44835628, 103.92659616,  95.38693864, 167.401181  ,\n",
       "       166.53426258, 101.53464696, 252.45035948, 147.02258539,\n",
       "       214.78906626, 161.2755711 , 210.61315207,  71.78091585,\n",
       "       189.65032421, 206.61342581, 219.98643468, 168.80192525,\n",
       "       116.84846106, 178.74399625,  77.03247424,  59.54633212,\n",
       "       111.56737796, 156.95186715, 154.59591278, 198.94457487,\n",
       "       115.53883996, 153.46699034,  84.96179512, 113.70337211,\n",
       "       142.1415563 , 147.3104036 ,  82.7807237 ,  77.89237352,\n",
       "       128.99006194, 261.58712266, 213.31187757, 243.98791279,\n",
       "       167.68132087, 183.69712115, 166.85926856, 202.1144016 ,\n",
       "       220.39235524, 172.40288006, 176.60897935, 109.04656536,\n",
       "       276.37789821,  90.99941818, 289.37221135, 119.5625335 ,\n",
       "        75.45687949, 180.78598747, 146.62093068, 156.42382465,\n",
       "        41.0790362 , 247.90645166, 207.99121401,  90.09641086,\n",
       "       222.24169635, 189.86377967, 182.2695376 , 164.3988137 ,\n",
       "       190.27066586, 105.4486794 , 199.86136375, 245.79638767,\n",
       "       123.20281322, 119.41031918, 145.86620391, 206.19247298,\n",
       "       150.86282449, 142.23221658, 154.56874627, 115.29233374,\n",
       "       134.07810114, 118.4222542 , 203.57675542, 170.66483803,\n",
       "       127.40979681,  57.13507626, 231.92226486, 185.20713652,\n",
       "       187.37494561,  83.55920859, 185.42585701, 217.34035659,\n",
       "       108.86715386,  80.98714535, 127.05524107, 242.00738796,\n",
       "       155.97234111, 125.67575293, 246.41235661, 234.9639326 ,\n",
       "       191.51298225, 168.33254451, 163.02965199])"
      ]
     },
     "execution_count": 85,
     "metadata": {},
     "output_type": "execute_result"
    }
   ],
   "source": [
    "Y_predict = alg1.predict(X_test)\n",
    "Y_predict"
   ]
  },
  {
   "cell_type": "code",
   "execution_count": 66,
   "metadata": {},
   "outputs": [],
   "source": [
    "np.savetxt(\"y_pred_diabaties.csv\",Y_predict,delimiter=\",\",fmt=\"%0.5f\")"
   ]
  }
 ],
 "metadata": {
  "kernelspec": {
   "display_name": "Python 3",
   "language": "python",
   "name": "python3"
  },
  "language_info": {
   "codemirror_mode": {
    "name": "ipython",
    "version": 3
   },
   "file_extension": ".py",
   "mimetype": "text/x-python",
   "name": "python",
   "nbconvert_exporter": "python",
   "pygments_lexer": "ipython3",
   "version": "3.8.5"
  }
 },
 "nbformat": 4,
 "nbformat_minor": 4
}
